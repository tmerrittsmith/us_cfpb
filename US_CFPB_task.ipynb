{
 "cells": [
  {
   "cell_type": "code",
   "execution_count": 1,
   "metadata": {},
   "outputs": [],
   "source": [
    "import pandas as pd\n",
    "from sklearn.decomposition import LatentDirichletAllocation\n",
    "from sklearn.feature_extraction.text import CountVectorizer, TfidfVectorizer\n",
    "import pandas as pd\n",
    "from sklearn.linear_model import LogisticRegression\n",
    "from sklearn.model_selection import train_test_split\n",
    "from sklearn.preprocessing import OneHotEncoder\n",
    "from sklearn.metrics import classification_report, confusion_matrix\n",
    "from sklearn.ensemble import RandomForestClassifier\n",
    "import matplotlib.pyplot as plt\n",
    "%matplotlib inline\n",
    "import numpy as np"
   ]
  },
  {
   "cell_type": "markdown",
   "metadata": {},
   "source": [
    "# US Consumer FInancial Protection Bureau\n",
    "\n",
    "As an intermediary, the CFPB receives a large number of complaints. To help the CFPB better manage them, they would like to reduce the complaints logged to those that are most likely to be successful. To help them to do this, they would like to be able to indicate to a consumer whether it is likely that their complaint will be accepted. This will help the consumer to decide whether they wish to go through the complaints process, and will reduce the number of complaints logged.\n",
    "\n",
    "Therefore, your objective is to build a classification model that can be used to:\n",
    "\n",
    "   1. Determine whether a consumer's complaint will be accepted and whether they are likely to receive relief.\n",
    "   2. Help the CFPB understand what factors affect how a company responds to the complaints that it receives.\n",
    "   \n",
    "This investigation is split into three sections:\n",
    "\n",
    "### [Exploratory Data Analysis](#eda)\n",
    "\n",
    "### [Classification](#clf)\n",
    "\n",
    "### [Conclusion](#fin)"
   ]
  },
  {
   "cell_type": "markdown",
   "metadata": {},
   "source": [
    "<a id='eda'></a>"
   ]
  },
  {
   "cell_type": "markdown",
   "metadata": {},
   "source": [
    "## Exploratory Data Analysis\n",
    "\n",
    "In this section, we perform some basic data cleaning, and plot the data to understand some of the features."
   ]
  },
  {
   "cell_type": "code",
   "execution_count": 1,
   "metadata": {},
   "outputs": [],
   "source": [
    "## if you haven't got the data, you can download it from here\n",
    "## I've inluded a sample in this repo, just so you can see the code running"
   ]
  },
  {
   "cell_type": "code",
   "execution_count": 2,
   "metadata": {},
   "outputs": [],
   "source": [
    "df = pd.read_csv('Consumer_complaints.csv')"
   ]
  },
  {
   "cell_type": "code",
   "execution_count": 3,
   "metadata": {},
   "outputs": [
    {
     "data": {
      "text/plain": [
       "Index(['date_received', 'product', 'subproduct', 'issue', 'subissue',\n",
       "       'consumer_complaint_narrative', 'company_public_response', 'company',\n",
       "       'state', 'zip_code', 'tags', 'consumer_consent_provided',\n",
       "       'submitted_via', 'date_sent_to_company', 'company_response_to_consumer',\n",
       "       'timely_response', 'consumer_disputed', 'complaint_id'],\n",
       "      dtype='object')"
      ]
     },
     "execution_count": 3,
     "metadata": {},
     "output_type": "execute_result"
    }
   ],
   "source": [
    "df.columns = [c.replace(' ','_').lower().replace('-','').replace('?','') for c in df.columns]\n",
    "df.columns"
   ]
  },
  {
   "cell_type": "code",
   "execution_count": 4,
   "metadata": {},
   "outputs": [],
   "source": [
    "def extract_year_month_date(datetime_series, dateformat=None, is_string=False):\n",
    "    ## take a datetime series and return a dataframe containing the year, month, \n",
    "    ## day and dayofweek\n",
    "    if dateformat is None:\n",
    "        infer_date_format = True\n",
    "    else:\n",
    "        infer_date_format = False\n",
    "    \n",
    "    if is_string:\n",
    "        datetime_series = pd.to_datetime(datetime_series, infer_datetime_format=infer_date_format, format=dateformat)\n",
    "#         print(datetime_series)\n",
    "    colname = datetime_series.name\n",
    "    year = datetime_series.apply(lambda x: x.year).to_frame().\\\n",
    "                           rename(columns = {colname:'year_{}'.format(colname)})\n",
    "    month = datetime_series.apply(lambda x: x.month).to_frame().\\\n",
    "                            rename(columns = {colname:'month_{}'.format(colname)})\n",
    "    day = datetime_series.apply(lambda x: x.day).to_frame().\\\n",
    "                          rename(columns = {colname:'day_{}'.format(colname)})\n",
    "    dayofweek = datetime_series.apply(lambda x: x.dayofweek).to_frame().\\\n",
    "                                rename(columns = {colname:'dayofweek_{}'.format(colname)})\n",
    "    return year.join(month).join(day).join(dayofweek).astype(int)\n",
    "\n",
    "df = df.join(extract_year_month_date(df['date_received'], is_string=True, dateformat=\"%d/%M/%Y\"))\n",
    "df = df.join(extract_year_month_date(df['date_sent_to_company'], is_string=True, dateformat=\"%d/%M/%Y\"))"
   ]
  },
  {
   "cell_type": "code",
   "execution_count": 5,
   "metadata": {},
   "outputs": [
    {
     "data": {
      "text/html": [
       "<div>\n",
       "<style scoped>\n",
       "    .dataframe tbody tr th:only-of-type {\n",
       "        vertical-align: middle;\n",
       "    }\n",
       "\n",
       "    .dataframe tbody tr th {\n",
       "        vertical-align: top;\n",
       "    }\n",
       "\n",
       "    .dataframe thead th {\n",
       "        text-align: right;\n",
       "    }\n",
       "</style>\n",
       "<table border=\"1\" class=\"dataframe\">\n",
       "  <thead>\n",
       "    <tr style=\"text-align: right;\">\n",
       "      <th>year_date_received</th>\n",
       "      <th>2011</th>\n",
       "      <th>2012</th>\n",
       "      <th>2013</th>\n",
       "      <th>2014</th>\n",
       "      <th>2015</th>\n",
       "      <th>2016</th>\n",
       "      <th>2017</th>\n",
       "    </tr>\n",
       "    <tr>\n",
       "      <th>product</th>\n",
       "      <th></th>\n",
       "      <th></th>\n",
       "      <th></th>\n",
       "      <th></th>\n",
       "      <th></th>\n",
       "      <th></th>\n",
       "      <th></th>\n",
       "    </tr>\n",
       "  </thead>\n",
       "  <tbody>\n",
       "    <tr>\n",
       "      <th>Bank account or service</th>\n",
       "      <td>0</td>\n",
       "      <td>12212</td>\n",
       "      <td>13388</td>\n",
       "      <td>14662</td>\n",
       "      <td>17140</td>\n",
       "      <td>21849</td>\n",
       "      <td>6956</td>\n",
       "    </tr>\n",
       "    <tr>\n",
       "      <th>Checking or savings account</th>\n",
       "      <td>0</td>\n",
       "      <td>0</td>\n",
       "      <td>0</td>\n",
       "      <td>0</td>\n",
       "      <td>0</td>\n",
       "      <td>0</td>\n",
       "      <td>9947</td>\n",
       "    </tr>\n",
       "    <tr>\n",
       "      <th>Consumer Loan</th>\n",
       "      <td>0</td>\n",
       "      <td>1986</td>\n",
       "      <td>3117</td>\n",
       "      <td>5457</td>\n",
       "      <td>7888</td>\n",
       "      <td>9602</td>\n",
       "      <td>3558</td>\n",
       "    </tr>\n",
       "    <tr>\n",
       "      <th>Credit card</th>\n",
       "      <td>1260</td>\n",
       "      <td>15353</td>\n",
       "      <td>13105</td>\n",
       "      <td>13974</td>\n",
       "      <td>17300</td>\n",
       "      <td>21066</td>\n",
       "      <td>7132</td>\n",
       "    </tr>\n",
       "    <tr>\n",
       "      <th>Credit card or prepaid card</th>\n",
       "      <td>0</td>\n",
       "      <td>0</td>\n",
       "      <td>0</td>\n",
       "      <td>0</td>\n",
       "      <td>0</td>\n",
       "      <td>0</td>\n",
       "      <td>11921</td>\n",
       "    </tr>\n",
       "    <tr>\n",
       "      <th>Credit reporting</th>\n",
       "      <td>0</td>\n",
       "      <td>1873</td>\n",
       "      <td>14380</td>\n",
       "      <td>29239</td>\n",
       "      <td>34273</td>\n",
       "      <td>44081</td>\n",
       "      <td>16578</td>\n",
       "    </tr>\n",
       "    <tr>\n",
       "      <th>Credit reporting, credit repair services, or other personal consumer reports</th>\n",
       "      <td>0</td>\n",
       "      <td>0</td>\n",
       "      <td>0</td>\n",
       "      <td>0</td>\n",
       "      <td>0</td>\n",
       "      <td>0</td>\n",
       "      <td>59186</td>\n",
       "    </tr>\n",
       "    <tr>\n",
       "      <th>Debt collection</th>\n",
       "      <td>0</td>\n",
       "      <td>0</td>\n",
       "      <td>11069</td>\n",
       "      <td>39148</td>\n",
       "      <td>39757</td>\n",
       "      <td>40492</td>\n",
       "      <td>41101</td>\n",
       "    </tr>\n",
       "    <tr>\n",
       "      <th>Money transfer, virtual currency, or money service</th>\n",
       "      <td>0</td>\n",
       "      <td>0</td>\n",
       "      <td>0</td>\n",
       "      <td>0</td>\n",
       "      <td>0</td>\n",
       "      <td>0</td>\n",
       "      <td>2213</td>\n",
       "    </tr>\n",
       "    <tr>\n",
       "      <th>Money transfers</th>\n",
       "      <td>0</td>\n",
       "      <td>0</td>\n",
       "      <td>559</td>\n",
       "      <td>1169</td>\n",
       "      <td>1619</td>\n",
       "      <td>1567</td>\n",
       "      <td>440</td>\n",
       "    </tr>\n",
       "    <tr>\n",
       "      <th>Mortgage</th>\n",
       "      <td>1276</td>\n",
       "      <td>38109</td>\n",
       "      <td>49401</td>\n",
       "      <td>42962</td>\n",
       "      <td>42353</td>\n",
       "      <td>41471</td>\n",
       "      <td>26622</td>\n",
       "    </tr>\n",
       "    <tr>\n",
       "      <th>Other financial service</th>\n",
       "      <td>0</td>\n",
       "      <td>0</td>\n",
       "      <td>0</td>\n",
       "      <td>116</td>\n",
       "      <td>312</td>\n",
       "      <td>466</td>\n",
       "      <td>165</td>\n",
       "    </tr>\n",
       "    <tr>\n",
       "      <th>Payday loan</th>\n",
       "      <td>0</td>\n",
       "      <td>0</td>\n",
       "      <td>194</td>\n",
       "      <td>1706</td>\n",
       "      <td>1586</td>\n",
       "      <td>1567</td>\n",
       "      <td>493</td>\n",
       "    </tr>\n",
       "    <tr>\n",
       "      <th>Payday loan, title loan, or personal loan</th>\n",
       "      <td>0</td>\n",
       "      <td>0</td>\n",
       "      <td>0</td>\n",
       "      <td>0</td>\n",
       "      <td>0</td>\n",
       "      <td>0</td>\n",
       "      <td>2245</td>\n",
       "    </tr>\n",
       "    <tr>\n",
       "      <th>Prepaid card</th>\n",
       "      <td>0</td>\n",
       "      <td>0</td>\n",
       "      <td>0</td>\n",
       "      <td>336</td>\n",
       "      <td>1784</td>\n",
       "      <td>1250</td>\n",
       "      <td>449</td>\n",
       "    </tr>\n",
       "    <tr>\n",
       "      <th>Student loan</th>\n",
       "      <td>0</td>\n",
       "      <td>2840</td>\n",
       "      <td>3005</td>\n",
       "      <td>4283</td>\n",
       "      <td>4501</td>\n",
       "      <td>8087</td>\n",
       "      <td>15896</td>\n",
       "    </tr>\n",
       "    <tr>\n",
       "      <th>Vehicle loan or lease</th>\n",
       "      <td>0</td>\n",
       "      <td>0</td>\n",
       "      <td>0</td>\n",
       "      <td>0</td>\n",
       "      <td>0</td>\n",
       "      <td>0</td>\n",
       "      <td>2873</td>\n",
       "    </tr>\n",
       "    <tr>\n",
       "      <th>Virtual currency</th>\n",
       "      <td>0</td>\n",
       "      <td>0</td>\n",
       "      <td>0</td>\n",
       "      <td>1</td>\n",
       "      <td>7</td>\n",
       "      <td>7</td>\n",
       "      <td>3</td>\n",
       "    </tr>\n",
       "  </tbody>\n",
       "</table>\n",
       "</div>"
      ],
      "text/plain": [
       "year_date_received                                  2011   2012   2013   2014  \\\n",
       "product                                                                         \n",
       "Bank account or service                                0  12212  13388  14662   \n",
       "Checking or savings account                            0      0      0      0   \n",
       "Consumer Loan                                          0   1986   3117   5457   \n",
       "Credit card                                         1260  15353  13105  13974   \n",
       "Credit card or prepaid card                            0      0      0      0   \n",
       "Credit reporting                                       0   1873  14380  29239   \n",
       "Credit reporting, credit repair services, or ot...     0      0      0      0   \n",
       "Debt collection                                        0      0  11069  39148   \n",
       "Money transfer, virtual currency, or money service     0      0      0      0   \n",
       "Money transfers                                        0      0    559   1169   \n",
       "Mortgage                                            1276  38109  49401  42962   \n",
       "Other financial service                                0      0      0    116   \n",
       "Payday loan                                            0      0    194   1706   \n",
       "Payday loan, title loan, or personal loan              0      0      0      0   \n",
       "Prepaid card                                           0      0      0    336   \n",
       "Student loan                                           0   2840   3005   4283   \n",
       "Vehicle loan or lease                                  0      0      0      0   \n",
       "Virtual currency                                       0      0      0      1   \n",
       "\n",
       "year_date_received                                   2015   2016   2017  \n",
       "product                                                                  \n",
       "Bank account or service                             17140  21849   6956  \n",
       "Checking or savings account                             0      0   9947  \n",
       "Consumer Loan                                        7888   9602   3558  \n",
       "Credit card                                         17300  21066   7132  \n",
       "Credit card or prepaid card                             0      0  11921  \n",
       "Credit reporting                                    34273  44081  16578  \n",
       "Credit reporting, credit repair services, or ot...      0      0  59186  \n",
       "Debt collection                                     39757  40492  41101  \n",
       "Money transfer, virtual currency, or money service      0      0   2213  \n",
       "Money transfers                                      1619   1567    440  \n",
       "Mortgage                                            42353  41471  26622  \n",
       "Other financial service                               312    466    165  \n",
       "Payday loan                                          1586   1567    493  \n",
       "Payday loan, title loan, or personal loan               0      0   2245  \n",
       "Prepaid card                                         1784   1250    449  \n",
       "Student loan                                         4501   8087  15896  \n",
       "Vehicle loan or lease                                   0      0   2873  \n",
       "Virtual currency                                        7      7      3  "
      ]
     },
     "execution_count": 5,
     "metadata": {},
     "output_type": "execute_result"
    }
   ],
   "source": [
    "# Look at the total complaints for different products, by year \n",
    "pd.crosstab(df['product'], df.year_date_received)"
   ]
  },
  {
   "cell_type": "code",
   "execution_count": 6,
   "metadata": {},
   "outputs": [],
   "source": [
    "## looking at the list of products, we can see that there's some unification which seems reasonable.\n",
    "\n",
    "remap_products = {\n",
    "     # product:remapped_product\n",
    "    'Credit card':'Credit card or prepaid card',\n",
    "    'Credit reporting, credit repair services, or other personal consumer reports':'Credit reporting',\n",
    "    'Money transfers':'Money transfer, virtual currency, or money service',\n",
    "    'Virtual currency':'Money transfer, virtual currency, or money service',\n",
    "    'Payday loan, title loan, or personal loan':'Payday loan',\n",
    "    'Prepaid card':'Credit card or prepaid card', \n",
    "    \n",
    "}\n",
    "\n",
    "df['product'] = df['product'].apply(lambda x: remap_products.get(x) if remap_products.get(x) else x)"
   ]
  },
  {
   "cell_type": "code",
   "execution_count": 7,
   "metadata": {},
   "outputs": [],
   "source": [
    "# unify the relief responses\n",
    "relief = ['Closed with monetary relief',\n",
    "             'Closed with non-monetary relief',\n",
    "             'Closed with relief']\n",
    "\n",
    "df['relief_received'] = df.company_response_to_consumer.apply(lambda x:1 if x in relief else 0)"
   ]
  },
  {
   "cell_type": "code",
   "execution_count": 8,
   "metadata": {},
   "outputs": [
    {
     "data": {
      "image/png": "[encoded data removed]",
      "text/plain": [
       "<Figure size 720x720 with 1 Axes>"
      ]
     },
     "metadata": {
      "needs_background": "light"
     },
     "output_type": "display_data"
    }
   ],
   "source": [
    "fig, ax = plt.subplots(figsize=(10,10))\n",
    "tab = pd.crosstab(df['product'],df['relief_received'])\n",
    "(tab.T / tab.sum(axis=1)).T.plot(kind='bar', ax=ax)\n",
    "plt.title('Percentage company responses for each product type.')\n",
    "# plt.tight_layout()\n",
    "\n",
    "plt.show()"
   ]
  },
  {
   "cell_type": "code",
   "execution_count": 9,
   "metadata": {},
   "outputs": [
    {
     "data": {
      "image/png": "[encoded data removed]",
      "text/plain": [
       "<Figure size 1440x720 with 1 Axes>"
      ]
     },
     "metadata": {
      "needs_background": "light"
     },
     "output_type": "display_data"
    }
   ],
   "source": [
    "fig, ax = plt.subplots(figsize=(20,10))\n",
    "\n",
    "df.groupby(['year_date_received','product']).relief_received.mean().unstack().plot(ax=ax)\n",
    "plt.legend(loc='lower center', ncol=2)\n",
    "plt.suptitle('Annual relief rate by product')\n",
    "plt.show()"
   ]
  },
  {
   "cell_type": "markdown",
   "metadata": {},
   "source": [
    "#### Company size\n",
    "We observe that most companies have a very small number of complaints, while others have a very large number. Does this affect the relief rate?"
   ]
  },
  {
   "cell_type": "code",
   "execution_count": 10,
   "metadata": {},
   "outputs": [
    {
     "name": "stdout",
     "output_type": "stream",
     "text": [
      "89.4% of companies do less than 100 transactions.\n"
     ]
    }
   ],
   "source": [
    "print(\\\n",
    "      \"{0:.1f}% of companies do less than 100 transactions.\".format(\\\n",
    "      (df.groupby('company').count()['product'] < 100).sum() /\\\n",
    "                            df.company.nunique() * 100))"
   ]
  },
  {
   "cell_type": "code",
   "execution_count": 11,
   "metadata": {},
   "outputs": [],
   "source": [
    "# we note that most companies are very small\n",
    "company_size = df.groupby('company').count()['product']\n",
    "company_size_bin = pd.cut(company_size, bins=[0, 100, 1000, 10000, 50000, 100000],\n",
    "                          labels=['very_small', 'small', 'medium', 'large', 'very_large']).reset_index()\n",
    "company_size_bin.columns = ['company', 'company_size']\n",
    "df = df.merge(company_size_bin, on='company')"
   ]
  },
  {
   "cell_type": "code",
   "execution_count": 12,
   "metadata": {
    "scrolled": false
   },
   "outputs": [
    {
     "data": {
      "image/png": "[encoded data removed]",
      "text/plain": [
       "<Figure size 720x720 with 1 Axes>"
      ]
     },
     "metadata": {
      "needs_background": "light"
     },
     "output_type": "display_data"
    }
   ],
   "source": [
    "df['company_relief_rate'] = df.groupby('company').relief_received.transform('mean')\n",
    "\n",
    "fig, ax = plt.subplots(figsize=(10,10))\n",
    "df.boxplot(column='company_relief_rate', by='company_size',ax=ax)\n",
    "plt.show()"
   ]
  },
  {
   "cell_type": "code",
   "execution_count": 13,
   "metadata": {},
   "outputs": [
    {
     "data": {
      "text/html": [
       "<div>\n",
       "<style scoped>\n",
       "    .dataframe tbody tr th:only-of-type {\n",
       "        vertical-align: middle;\n",
       "    }\n",
       "\n",
       "    .dataframe tbody tr th {\n",
       "        vertical-align: top;\n",
       "    }\n",
       "\n",
       "    .dataframe thead th {\n",
       "        text-align: right;\n",
       "    }\n",
       "</style>\n",
       "<table border=\"1\" class=\"dataframe\">\n",
       "  <thead>\n",
       "    <tr style=\"text-align: right;\">\n",
       "      <th>company_size</th>\n",
       "      <th>very_small</th>\n",
       "      <th>small</th>\n",
       "      <th>medium</th>\n",
       "      <th>large</th>\n",
       "      <th>very_large</th>\n",
       "    </tr>\n",
       "    <tr>\n",
       "      <th>product</th>\n",
       "      <th></th>\n",
       "      <th></th>\n",
       "      <th></th>\n",
       "      <th></th>\n",
       "      <th></th>\n",
       "    </tr>\n",
       "  </thead>\n",
       "  <tbody>\n",
       "    <tr>\n",
       "      <th>Bank account or service</th>\n",
       "      <td>1000</td>\n",
       "      <td>6115</td>\n",
       "      <td>30471</td>\n",
       "      <td>21322</td>\n",
       "      <td>27299</td>\n",
       "    </tr>\n",
       "    <tr>\n",
       "      <th>Checking or savings account</th>\n",
       "      <td>169</td>\n",
       "      <td>655</td>\n",
       "      <td>3625</td>\n",
       "      <td>2559</td>\n",
       "      <td>2939</td>\n",
       "    </tr>\n",
       "    <tr>\n",
       "      <th>Consumer Loan</th>\n",
       "      <td>2792</td>\n",
       "      <td>9735</td>\n",
       "      <td>11308</td>\n",
       "      <td>4441</td>\n",
       "      <td>3332</td>\n",
       "    </tr>\n",
       "    <tr>\n",
       "      <th>Credit card or prepaid card</th>\n",
       "      <td>572</td>\n",
       "      <td>3801</td>\n",
       "      <td>27592</td>\n",
       "      <td>58072</td>\n",
       "      <td>14893</td>\n",
       "    </tr>\n",
       "    <tr>\n",
       "      <th>Credit reporting</th>\n",
       "      <td>1942</td>\n",
       "      <td>5515</td>\n",
       "      <td>5512</td>\n",
       "      <td>3934</td>\n",
       "      <td>182707</td>\n",
       "    </tr>\n",
       "    <tr>\n",
       "      <th>Debt collection</th>\n",
       "      <td>36514</td>\n",
       "      <td>58364</td>\n",
       "      <td>57402</td>\n",
       "      <td>15051</td>\n",
       "      <td>4236</td>\n",
       "    </tr>\n",
       "    <tr>\n",
       "      <th>Money transfer, virtual currency, or money service</th>\n",
       "      <td>395</td>\n",
       "      <td>831</td>\n",
       "      <td>4960</td>\n",
       "      <td>635</td>\n",
       "      <td>764</td>\n",
       "    </tr>\n",
       "    <tr>\n",
       "      <th>Mortgage</th>\n",
       "      <td>7786</td>\n",
       "      <td>15079</td>\n",
       "      <td>58160</td>\n",
       "      <td>87537</td>\n",
       "      <td>73632</td>\n",
       "    </tr>\n",
       "    <tr>\n",
       "      <th>Other financial service</th>\n",
       "      <td>324</td>\n",
       "      <td>182</td>\n",
       "      <td>263</td>\n",
       "      <td>149</td>\n",
       "      <td>141</td>\n",
       "    </tr>\n",
       "    <tr>\n",
       "      <th>Payday loan</th>\n",
       "      <td>1533</td>\n",
       "      <td>4194</td>\n",
       "      <td>1647</td>\n",
       "      <td>216</td>\n",
       "      <td>201</td>\n",
       "    </tr>\n",
       "    <tr>\n",
       "      <th>Student loan</th>\n",
       "      <td>1640</td>\n",
       "      <td>4858</td>\n",
       "      <td>9704</td>\n",
       "      <td>20787</td>\n",
       "      <td>1623</td>\n",
       "    </tr>\n",
       "    <tr>\n",
       "      <th>Vehicle loan or lease</th>\n",
       "      <td>278</td>\n",
       "      <td>938</td>\n",
       "      <td>1128</td>\n",
       "      <td>293</td>\n",
       "      <td>236</td>\n",
       "    </tr>\n",
       "  </tbody>\n",
       "</table>\n",
       "</div>"
      ],
      "text/plain": [
       "company_size                                        very_small  small  medium  \\\n",
       "product                                                                         \n",
       "Bank account or service                                   1000   6115   30471   \n",
       "Checking or savings account                                169    655    3625   \n",
       "Consumer Loan                                             2792   9735   11308   \n",
       "Credit card or prepaid card                                572   3801   27592   \n",
       "Credit reporting                                          1942   5515    5512   \n",
       "Debt collection                                          36514  58364   57402   \n",
       "Money transfer, virtual currency, or money service         395    831    4960   \n",
       "Mortgage                                                  7786  15079   58160   \n",
       "Other financial service                                    324    182     263   \n",
       "Payday loan                                               1533   4194    1647   \n",
       "Student loan                                              1640   4858    9704   \n",
       "Vehicle loan or lease                                      278    938    1128   \n",
       "\n",
       "company_size                                        large  very_large  \n",
       "product                                                                \n",
       "Bank account or service                             21322       27299  \n",
       "Checking or savings account                          2559        2939  \n",
       "Consumer Loan                                        4441        3332  \n",
       "Credit card or prepaid card                         58072       14893  \n",
       "Credit reporting                                     3934      182707  \n",
       "Debt collection                                     15051        4236  \n",
       "Money transfer, virtual currency, or money service    635         764  \n",
       "Mortgage                                            87537       73632  \n",
       "Other financial service                               149         141  \n",
       "Payday loan                                           216         201  \n",
       "Student loan                                        20787        1623  \n",
       "Vehicle loan or lease                                 293         236  "
      ]
     },
     "execution_count": 13,
     "metadata": {},
     "output_type": "execute_result"
    }
   ],
   "source": [
    "# We can see that very large companies receive most complaints about bank accounts, credit reporting, and mortgages\n",
    "pd.crosstab(df['product'], df['company_size'])"
   ]
  },
  {
   "cell_type": "code",
   "execution_count": 14,
   "metadata": {},
   "outputs": [
    {
     "data": {
      "image/png": "[encoded data removed]",
      "text/plain": [
       "<Figure size 720x720 with 1 Axes>"
      ]
     },
     "metadata": {
      "needs_background": "light"
     },
     "output_type": "display_data"
    }
   ],
   "source": [
    "fig, ax = plt.subplots(figsize=(10,10))\n",
    "df.groupby(['year_date_received','company_size']).relief_received.mean().unstack().plot(ax=ax)\n",
    "plt.title('Proportion of complaints in which relief is given \\nfor companies of different size, by year')\n",
    "plt.show()"
   ]
  },
  {
   "cell_type": "markdown",
   "metadata": {},
   "source": [
    "## Discussion of exploratory data analysis\n",
    "\n",
    "From the exploratory analysis above, we can make a few initial observations:\n",
    "- Credit cards and prepaid cards, credit reporting, and account services have the highest relief rates, but these are gradually decreasing year-on-year\n",
    "- Larger companies have a higher average relief rate, but there is much greater variation in small companies."
   ]
  },
  {
   "cell_type": "markdown",
   "metadata": {},
   "source": [
    "<a id='clf'></a>"
   ]
  },
  {
   "cell_type": "markdown",
   "metadata": {},
   "source": [
    "# Classification\n",
    "\n",
    "In this task, we are asked to build a classification model that can be used to:\n",
    "\n",
    "   1. Determine whether a consumer's complaint will be accepted and whether they are likely to receive relief.\n",
    "   2. Help the CFPB understand what factors affect how a company responds to the complaints that it receives.\n",
    "    \n",
    "From this statement, we can begin to make plans about what sort of model to use in classification:\n",
    "- an interpretable model will be helpful as we will immediately gain an insight into factors affecting company response\n",
    "- if the model is not interpretable, we will need to use some kind of model inspection or explanation technique\n",
    "- Relevant factors may be found in the text, but also in the metadata of the complaint (product, issue, tag etc.) so we should also include these features in our model.\n",
    "\n",
    "#### Baseline\n",
    "In any classification problem, it's useful to establish a baseline for further development, and for nlp problems this is usually a bag-of-words input with a linear model - here we will try Logistic Regression, and a Linear SVC. \n",
    "\n",
    "\n",
    "#### Data preprocessing\n",
    "It is standard practice to undertake some cleaning of the text, such as removing stopwords and punctuation; from a brief glance at some samples, we can see that the complaints are anonymised using 'xxxx' tokens - these should also be removed. As mentioned above, a bag-of-words model is a standard approach, but we can also use Tf-Idf to give a relevance weighting to tokens within the text. \n",
    "\n",
    "The following metadata features will also be included: product, issue, sub-issue, company size and tag. We will not include the actual company, as this may lead to overfitting based on the relief rate of companies in the training set, and would not generalise to new companies as they appear in the data.\n",
    "\n",
    "There is a 4:1 imbalance in the data, which is not too extreme, but should be accounted for. As a minimum, the data must be stratified in the train-test split, and during model development we can explore the use of class weights and oversampling of the data.\n"
   ]
  },
  {
   "cell_type": "code",
   "execution_count": 19,
   "metadata": {},
   "outputs": [
    {
     "data": {
      "text/plain": [
       "0    0.819553\n",
       "1    0.180447\n",
       "Name: relief_received, dtype: float64"
      ]
     },
     "execution_count": 19,
     "metadata": {},
     "output_type": "execute_result"
    }
   ],
   "source": [
    "df.dropna(subset=['consumer_complaint_narrative'])\\\n",
    "  .relief_received.value_counts() / df.dropna(subset=['consumer_complaint_narrative']).shape[0]"
   ]
  },
  {
   "cell_type": "code",
   "execution_count": 20,
   "metadata": {},
   "outputs": [],
   "source": [
    "from sklearn.model_selection import train_test_split\n",
    "from sklearn.feature_extraction.text import CountVectorizer, TfidfVectorizer\n",
    "from sklearn.linear_model import LogisticRegression\n",
    "from sklearn.svm import LinearSVC\n",
    "from sklearn.model_selection import RandomizedSearchCV\n",
    "from sklearn.metrics import classification_report\n",
    "import scipy.stats as stats\n",
    "np.random.seed(31415)\n"
   ]
  },
  {
   "cell_type": "code",
   "execution_count": 40,
   "metadata": {
    "scrolled": true
   },
   "outputs": [],
   "source": [
    "df_text = df.copy()\n",
    "df_text.dropna(axis=0,subset=['consumer_complaint_narrative'], inplace=True)\n",
    "df_text.shape\n",
    "X = df_text['consumer_complaint_narrative'].str.replace('xx+','')\n",
    "y = df_text.relief_received\n",
    "X_train, X_test, y_train, y_test = train_test_split(X, y, test_size=0.2, stratify=y, random_state=31415)\n"
   ]
  },
  {
   "cell_type": "code",
   "execution_count": 41,
   "metadata": {},
   "outputs": [
    {
     "name": "stdout",
     "output_type": "stream",
     "text": [
      "lr\n"
     ]
    },
    {
     "name": "stderr",
     "output_type": "stream",
     "text": [
      "C:\\Users\\thomas.merritt-smith\\AppData\\Local\\Continuum\\anaconda3\\envs\\uscfpb_test\\lib\\site-packages\\sklearn\\linear_model\\_logistic.py:939: ConvergenceWarning: lbfgs failed to converge (status=1):\n",
      "STOP: TOTAL NO. of ITERATIONS REACHED LIMIT.\n",
      "\n",
      "Increase the number of iterations (max_iter) or scale the data as shown in:\n",
      "    https://scikit-learn.org/stable/modules/preprocessing.html.\n",
      "Please also refer to the documentation for alternative solver options:\n",
      "    https://scikit-learn.org/stable/modules/linear_model.html#logistic-regression\n",
      "  extra_warning_msg=_LOGISTIC_SOLVER_CONVERGENCE_MSG)\n"
     ]
    },
    {
     "name": "stdout",
     "output_type": "stream",
     "text": [
      "              precision    recall  f1-score   support\n",
      "\n",
      "           0       0.91      0.66      0.77     32777\n",
      "           1       0.31      0.69      0.43      7217\n",
      "\n",
      "    accuracy                           0.67     39994\n",
      "   macro avg       0.61      0.68      0.60     39994\n",
      "weighted avg       0.80      0.67      0.71     39994\n",
      "\n",
      "svc\n",
      "              precision    recall  f1-score   support\n",
      "\n",
      "           0       0.89      0.74      0.81     32777\n",
      "           1       0.33      0.59      0.42      7217\n",
      "\n",
      "    accuracy                           0.71     39994\n",
      "   macro avg       0.61      0.66      0.62     39994\n",
      "weighted avg       0.79      0.71      0.74     39994\n",
      "\n"
     ]
    },
    {
     "name": "stderr",
     "output_type": "stream",
     "text": [
      "C:\\Users\\thomas.merritt-smith\\AppData\\Local\\Continuum\\anaconda3\\envs\\uscfpb_test\\lib\\site-packages\\sklearn\\svm\\_base.py:947: ConvergenceWarning: Liblinear failed to converge, increase the number of iterations.\n",
      "  \"the number of iterations.\", ConvergenceWarning)\n"
     ]
    }
   ],
   "source": [
    "# baseline model for logistic regression and LinearSVC\n",
    "relief_tags = ['Closed with non-monetary relief',\n",
    "       'Closed with monetary relief','Closed with relief',]\n",
    "\n",
    "\n",
    "vectorizer = CountVectorizer(strip_accents = 'unicode',\n",
    "                                stop_words = 'english',\n",
    "                                lowercase = True,\n",
    "                                max_df = 0.5, \n",
    "                                min_df = 100)\n",
    "\n",
    "X_train = vectorizer.fit_transform(X_train)\n",
    "X_test = vectorizer.transform(X_test)\n",
    "\n",
    "models = {'lr':LogisticRegression(class_weight={0:1,1:5}, random_state=31415), \n",
    "          'svc':LinearSVC(class_weight={0:1,1:5}, random_state=31415)}\n",
    "preds = {}\n",
    "\n",
    "for name, model in models.items():\n",
    "    print(name)\n",
    "    model.fit(X_train, y_train)\n",
    "    preds[name] = model.predict(X_test)\n",
    "    print(classification_report(y_test, preds[name]))\n"
   ]
  },
  {
   "cell_type": "markdown",
   "metadata": {},
   "source": [
    "#### Leveraging additional meta-data"
   ]
  },
  {
   "cell_type": "code",
   "execution_count": 42,
   "metadata": {},
   "outputs": [
    {
     "name": "stderr",
     "output_type": "stream",
     "text": [
      "C:\\Users\\thomas.merritt-smith\\AppData\\Local\\Continuum\\anaconda3\\envs\\uscfpb_test\\lib\\site-packages\\pandas\\core\\frame.py:3509: SettingWithCopyWarning: \n",
      "A value is trying to be set on a copy of a slice from a DataFrame.\n",
      "Try using .loc[row_indexer,col_indexer] = value instead\n",
      "\n",
      "See the caveats in the documentation: http://pandas.pydata.org/pandas-docs/stable/user_guide/indexing.html#returning-a-view-versus-a-copy\n",
      "  self[k1] = value[k2]\n"
     ]
    }
   ],
   "source": [
    "from scipy.sparse import hstack\n",
    "\n",
    "ohe = OneHotEncoder(handle_unknown='ignore')\n",
    "# we won't use company name, as this would lead to overfitting to individual companies\n",
    "features = ['product','issue','subissue','company_size'] \n",
    "\n",
    "X = df_text[['product','issue','subissue','company_size','consumer_complaint_narrative']]\n",
    "X[['product','issue','subissue']] = X[['product','issue','subissue']].fillna('none')\n",
    "y = df_text.relief_received\n",
    "X_train, X_test, y_train, y_test = train_test_split(X, y, test_size=0.2, stratify=y, random_state=31415)\n",
    "\n",
    "vectorizer_meta_data = CountVectorizer()\n",
    "X_train_text = vectorizer_meta_data.fit_transform(X_train['consumer_complaint_narrative'])\n",
    "X_test_text = vectorizer_meta_data.transform(X_test['consumer_complaint_narrative'])\n",
    "X_train_features = ohe.fit_transform(X_train[features],)\n",
    "X_test_features = ohe.transform(X_test[features])\n",
    "\n",
    "X_train = hstack([X_train_text, X_train_features])\n",
    "X_test = hstack([X_test_text, X_test_features])\n",
    "\n",
    "\n"
   ]
  },
  {
   "cell_type": "code",
   "execution_count": 43,
   "metadata": {},
   "outputs": [
    {
     "name": "stderr",
     "output_type": "stream",
     "text": [
      "C:\\Users\\thomas.merritt-smith\\AppData\\Local\\Continuum\\anaconda3\\envs\\uscfpb_test\\lib\\site-packages\\sklearn\\linear_model\\_logistic.py:939: ConvergenceWarning: lbfgs failed to converge (status=1):\n",
      "STOP: TOTAL NO. of ITERATIONS REACHED LIMIT.\n",
      "\n",
      "Increase the number of iterations (max_iter) or scale the data as shown in:\n",
      "    https://scikit-learn.org/stable/modules/preprocessing.html.\n",
      "Please also refer to the documentation for alternative solver options:\n",
      "    https://scikit-learn.org/stable/modules/linear_model.html#logistic-regression\n",
      "  extra_warning_msg=_LOGISTIC_SOLVER_CONVERGENCE_MSG)\n"
     ]
    },
    {
     "data": {
      "text/plain": [
       "LogisticRegression(C=1.0, class_weight='balanced', dual=False,\n",
       "                   fit_intercept=True, intercept_scaling=1, l1_ratio=None,\n",
       "                   max_iter=100, multi_class='auto', n_jobs=None, penalty='l2',\n",
       "                   random_state=31415, solver='lbfgs', tol=0.0001, verbose=0,\n",
       "                   warm_start=False)"
      ]
     },
     "execution_count": 43,
     "metadata": {},
     "output_type": "execute_result"
    }
   ],
   "source": [
    "model = LogisticRegression(class_weight='balanced', random_state=31415)\n",
    "model.fit(X_train, y_train)"
   ]
  },
  {
   "cell_type": "code",
   "execution_count": 44,
   "metadata": {},
   "outputs": [
    {
     "name": "stdout",
     "output_type": "stream",
     "text": [
      "              precision    recall  f1-score   support\n",
      "\n",
      "           0       0.91      0.72      0.80     32777\n",
      "           1       0.34      0.66      0.45      7217\n",
      "\n",
      "    accuracy                           0.71     39994\n",
      "   macro avg       0.62      0.69      0.63     39994\n",
      "weighted avg       0.80      0.71      0.74     39994\n",
      "\n"
     ]
    }
   ],
   "source": [
    "preds = model.predict(X_test)\n",
    "print(classification_report(y_test, preds))"
   ]
  },
  {
   "cell_type": "markdown",
   "metadata": {},
   "source": [
    "#### Inspecting the Logistic Regression model"
   ]
  },
  {
   "cell_type": "code",
   "execution_count": 45,
   "metadata": {
    "scrolled": false
   },
   "outputs": [
    {
     "data": {
      "image/png": "[encoded data removed]",
      "text/plain": [
       "<Figure size 720x720 with 1 Axes>"
      ]
     },
     "metadata": {
      "needs_background": "light"
     },
     "output_type": "display_data"
    }
   ],
   "source": [
    "feature_melt = []\n",
    "for feature, categories in zip(features,ohe.categories_):\n",
    "    melted = [feature] * len(categories)\n",
    "    feature_melt += melted\n",
    "\n",
    "categories = np.hstack(ohe.categories_)\n",
    "\n",
    "coef_df = pd.DataFrame([categories, model.coef_[:,-len(categories):][0], feature_melt]).T\n",
    "coef_df.columns = ['category', 'coef', 'original_feature']\n",
    "\n",
    "fig, ax = plt.subplots(figsize=(10,10))\n",
    "coef_df.boxplot(column='coef', \n",
    "           by='original_feature', \n",
    "           ax=ax,\n",
    "           )\n",
    "plt.suptitle('Boxplot of coefficients for meta-data features of complaints')\n",
    "plt.show()"
   ]
  },
  {
   "cell_type": "code",
   "execution_count": 46,
   "metadata": {},
   "outputs": [
    {
     "data": {
      "text/html": [
       "<div>\n",
       "<style scoped>\n",
       "    .dataframe tbody tr th:only-of-type {\n",
       "        vertical-align: middle;\n",
       "    }\n",
       "\n",
       "    .dataframe tbody tr th {\n",
       "        vertical-align: top;\n",
       "    }\n",
       "\n",
       "    .dataframe thead th {\n",
       "        text-align: right;\n",
       "    }\n",
       "</style>\n",
       "<table border=\"1\" class=\"dataframe\">\n",
       "  <thead>\n",
       "    <tr style=\"text-align: right;\">\n",
       "      <th></th>\n",
       "      <th>category</th>\n",
       "      <th>coef</th>\n",
       "      <th>original_feature</th>\n",
       "    </tr>\n",
       "  </thead>\n",
       "  <tbody>\n",
       "    <tr>\n",
       "      <th>3</th>\n",
       "      <td>Credit card or prepaid card</td>\n",
       "      <td>0.545969</td>\n",
       "      <td>product</td>\n",
       "    </tr>\n",
       "    <tr>\n",
       "      <th>0</th>\n",
       "      <td>Bank account or service</td>\n",
       "      <td>0.326113</td>\n",
       "      <td>product</td>\n",
       "    </tr>\n",
       "    <tr>\n",
       "      <th>1</th>\n",
       "      <td>Checking or savings account</td>\n",
       "      <td>0.225128</td>\n",
       "      <td>product</td>\n",
       "    </tr>\n",
       "    <tr>\n",
       "      <th>5</th>\n",
       "      <td>Debt collection</td>\n",
       "      <td>0.0556301</td>\n",
       "      <td>product</td>\n",
       "    </tr>\n",
       "    <tr>\n",
       "      <th>8</th>\n",
       "      <td>Other financial service</td>\n",
       "      <td>0.0510896</td>\n",
       "      <td>product</td>\n",
       "    </tr>\n",
       "    <tr>\n",
       "      <th>2</th>\n",
       "      <td>Consumer Loan</td>\n",
       "      <td>0.0438741</td>\n",
       "      <td>product</td>\n",
       "    </tr>\n",
       "    <tr>\n",
       "      <th>11</th>\n",
       "      <td>Vehicle loan or lease</td>\n",
       "      <td>-0.001235</td>\n",
       "      <td>product</td>\n",
       "    </tr>\n",
       "    <tr>\n",
       "      <th>4</th>\n",
       "      <td>Credit reporting</td>\n",
       "      <td>-0.0166776</td>\n",
       "      <td>product</td>\n",
       "    </tr>\n",
       "    <tr>\n",
       "      <th>6</th>\n",
       "      <td>Money transfer, virtual currency, or money ser...</td>\n",
       "      <td>-0.156185</td>\n",
       "      <td>product</td>\n",
       "    </tr>\n",
       "    <tr>\n",
       "      <th>9</th>\n",
       "      <td>Payday loan</td>\n",
       "      <td>-0.386861</td>\n",
       "      <td>product</td>\n",
       "    </tr>\n",
       "    <tr>\n",
       "      <th>7</th>\n",
       "      <td>Mortgage</td>\n",
       "      <td>-0.526208</td>\n",
       "      <td>product</td>\n",
       "    </tr>\n",
       "    <tr>\n",
       "      <th>10</th>\n",
       "      <td>Student loan</td>\n",
       "      <td>-0.649351</td>\n",
       "      <td>product</td>\n",
       "    </tr>\n",
       "  </tbody>\n",
       "</table>\n",
       "</div>"
      ],
      "text/plain": [
       "                                             category       coef  \\\n",
       "3                         Credit card or prepaid card   0.545969   \n",
       "0                             Bank account or service   0.326113   \n",
       "1                         Checking or savings account   0.225128   \n",
       "5                                     Debt collection  0.0556301   \n",
       "8                             Other financial service  0.0510896   \n",
       "2                                       Consumer Loan  0.0438741   \n",
       "11                              Vehicle loan or lease  -0.001235   \n",
       "4                                    Credit reporting -0.0166776   \n",
       "6   Money transfer, virtual currency, or money ser...  -0.156185   \n",
       "9                                         Payday loan  -0.386861   \n",
       "7                                            Mortgage  -0.526208   \n",
       "10                                       Student loan  -0.649351   \n",
       "\n",
       "   original_feature  \n",
       "3           product  \n",
       "0           product  \n",
       "1           product  \n",
       "5           product  \n",
       "8           product  \n",
       "2           product  \n",
       "11          product  \n",
       "4           product  \n",
       "6           product  \n",
       "9           product  \n",
       "7           product  \n",
       "10          product  "
      ]
     },
     "execution_count": 46,
     "metadata": {},
     "output_type": "execute_result"
    }
   ],
   "source": [
    "# Display the coefficients for products\n",
    "coef_df[coef_df.original_feature == 'product'].sort_values('coef', ascending=False)"
   ]
  },
  {
   "cell_type": "code",
   "execution_count": 47,
   "metadata": {},
   "outputs": [
    {
     "data": {
      "text/html": [
       "<div>\n",
       "<style scoped>\n",
       "    .dataframe tbody tr th:only-of-type {\n",
       "        vertical-align: middle;\n",
       "    }\n",
       "\n",
       "    .dataframe tbody tr th {\n",
       "        vertical-align: top;\n",
       "    }\n",
       "\n",
       "    .dataframe thead th {\n",
       "        text-align: right;\n",
       "    }\n",
       "</style>\n",
       "<table border=\"1\" class=\"dataframe\">\n",
       "  <thead>\n",
       "    <tr style=\"text-align: right;\">\n",
       "      <th></th>\n",
       "      <th>category</th>\n",
       "      <th>coef</th>\n",
       "      <th>original_feature</th>\n",
       "    </tr>\n",
       "  </thead>\n",
       "  <tbody>\n",
       "    <tr>\n",
       "      <th>381</th>\n",
       "      <td>very_large</td>\n",
       "      <td>0.463117</td>\n",
       "      <td>company_size</td>\n",
       "    </tr>\n",
       "    <tr>\n",
       "      <th>379</th>\n",
       "      <td>medium</td>\n",
       "      <td>0.136443</td>\n",
       "      <td>company_size</td>\n",
       "    </tr>\n",
       "    <tr>\n",
       "      <th>378</th>\n",
       "      <td>large</td>\n",
       "      <td>-0.073706</td>\n",
       "      <td>company_size</td>\n",
       "    </tr>\n",
       "    <tr>\n",
       "      <th>382</th>\n",
       "      <td>very_small</td>\n",
       "      <td>-0.471874</td>\n",
       "      <td>company_size</td>\n",
       "    </tr>\n",
       "    <tr>\n",
       "      <th>380</th>\n",
       "      <td>small</td>\n",
       "      <td>-0.542694</td>\n",
       "      <td>company_size</td>\n",
       "    </tr>\n",
       "  </tbody>\n",
       "</table>\n",
       "</div>"
      ],
      "text/plain": [
       "       category      coef original_feature\n",
       "381  very_large  0.463117     company_size\n",
       "379      medium  0.136443     company_size\n",
       "378       large -0.073706     company_size\n",
       "382  very_small -0.471874     company_size\n",
       "380       small -0.542694     company_size"
      ]
     },
     "execution_count": 47,
     "metadata": {},
     "output_type": "execute_result"
    }
   ],
   "source": [
    "# Display the coefficients for company size\n",
    "coef_df[coef_df.original_feature == 'company_size'].sort_values('coef', ascending=False)"
   ]
  },
  {
   "cell_type": "code",
   "execution_count": 48,
   "metadata": {},
   "outputs": [
    {
     "data": {
      "text/html": [
       "<div>\n",
       "<style scoped>\n",
       "    .dataframe tbody tr th:only-of-type {\n",
       "        vertical-align: middle;\n",
       "    }\n",
       "\n",
       "    .dataframe tbody tr th {\n",
       "        vertical-align: top;\n",
       "    }\n",
       "\n",
       "    .dataframe thead th {\n",
       "        text-align: right;\n",
       "    }\n",
       "</style>\n",
       "<table border=\"1\" class=\"dataframe\">\n",
       "  <thead>\n",
       "    <tr style=\"text-align: right;\">\n",
       "      <th></th>\n",
       "      <th>category</th>\n",
       "      <th>coef</th>\n",
       "      <th>original_feature</th>\n",
       "    </tr>\n",
       "  </thead>\n",
       "  <tbody>\n",
       "    <tr>\n",
       "      <th>156</th>\n",
       "      <td>Unable to get credit report/credit score</td>\n",
       "      <td>0.875798</td>\n",
       "      <td>issue</td>\n",
       "    </tr>\n",
       "    <tr>\n",
       "      <th>134</th>\n",
       "      <td>Problems caused by my funds being low</td>\n",
       "      <td>0.542986</td>\n",
       "      <td>issue</td>\n",
       "    </tr>\n",
       "    <tr>\n",
       "      <th>87</th>\n",
       "      <td>Late fee</td>\n",
       "      <td>0.3429</td>\n",
       "      <td>issue</td>\n",
       "    </tr>\n",
       "    <tr>\n",
       "      <th>46</th>\n",
       "      <td>Communication tactics</td>\n",
       "      <td>0.326751</td>\n",
       "      <td>issue</td>\n",
       "    </tr>\n",
       "    <tr>\n",
       "      <th>159</th>\n",
       "      <td>Unauthorized transactions/trans. issues</td>\n",
       "      <td>0.305247</td>\n",
       "      <td>issue</td>\n",
       "    </tr>\n",
       "    <tr>\n",
       "      <th>80</th>\n",
       "      <td>Improper contact or sharing of info</td>\n",
       "      <td>0.284458</td>\n",
       "      <td>issue</td>\n",
       "    </tr>\n",
       "    <tr>\n",
       "      <th>101</th>\n",
       "      <td>Managing, opening, or closing account</td>\n",
       "      <td>0.250215</td>\n",
       "      <td>issue</td>\n",
       "    </tr>\n",
       "    <tr>\n",
       "      <th>108</th>\n",
       "      <td>Other fee</td>\n",
       "      <td>0.233449</td>\n",
       "      <td>issue</td>\n",
       "    </tr>\n",
       "    <tr>\n",
       "      <th>30</th>\n",
       "      <td>Billing disputes</td>\n",
       "      <td>0.198935</td>\n",
       "      <td>issue</td>\n",
       "    </tr>\n",
       "    <tr>\n",
       "      <th>56</th>\n",
       "      <td>Credit monitoring or identity protection</td>\n",
       "      <td>0.177035</td>\n",
       "      <td>issue</td>\n",
       "    </tr>\n",
       "  </tbody>\n",
       "</table>\n",
       "</div>"
      ],
      "text/plain": [
       "                                     category      coef original_feature\n",
       "156  Unable to get credit report/credit score  0.875798            issue\n",
       "134     Problems caused by my funds being low  0.542986            issue\n",
       "87                                   Late fee    0.3429            issue\n",
       "46                      Communication tactics  0.326751            issue\n",
       "159   Unauthorized transactions/trans. issues  0.305247            issue\n",
       "80        Improper contact or sharing of info  0.284458            issue\n",
       "101     Managing, opening, or closing account  0.250215            issue\n",
       "108                                 Other fee  0.233449            issue\n",
       "30                           Billing disputes  0.198935            issue\n",
       "56   Credit monitoring or identity protection  0.177035            issue"
      ]
     },
     "execution_count": 48,
     "metadata": {},
     "output_type": "execute_result"
    }
   ],
   "source": [
    "# Display the coefficients for issues\n",
    "coef_df[coef_df.original_feature == 'issue'].sort_values('coef', ascending=False)[:10]"
   ]
  },
  {
   "cell_type": "code",
   "execution_count": 49,
   "metadata": {},
   "outputs": [],
   "source": [
    "words = vectorizer.get_feature_names()\n",
    "word_coefs = pd.DataFrame([words, models['lr'].coef_[0]]).T\n",
    "word_coefs.columns = ['words','coef']\n"
   ]
  },
  {
   "cell_type": "code",
   "execution_count": 50,
   "metadata": {},
   "outputs": [
    {
     "name": "stdout",
     "output_type": "stream",
     "text": [
      "                   words      coef\n",
      "2844           jefferson   2.72214\n",
      "1829             dynamic   2.29037\n",
      "4377            rushcard   1.91164\n",
      "1920            enhanced   1.57078\n",
      "2789          interstate    1.4535\n",
      "4376                rush    1.3884\n",
      "3837       professionals  0.830137\n",
      "1096            citigold  0.801865\n",
      "5132           universal  0.792687\n",
      "562   annualcreditreport  0.776771\n",
      "3585            partners   0.68735\n",
      "520               allied  0.623358\n",
      "1019                cbna  0.613705\n",
      "2586           hurricane   0.58328\n",
      "1265                conn  0.560628\n",
      "1256         conflicting  0.557217\n",
      "4885          technology  0.530956\n",
      "4185              repaye  0.526669\n",
      "2435               guide  0.525563\n",
      "1037       certification  0.522281\n",
      "3318               multi  0.518445\n",
      "281                  809  0.499301\n",
      "548         amortization  0.497155\n",
      "3485          operations  0.495929\n",
      "1212          completing  0.493841\n",
      "715             attitude  0.491621\n",
      "1016             cavalry   0.48636\n",
      "4607              solely  0.483301\n",
      "3075                  lt  0.473938\n",
      "1957                 erc  0.472124\n",
      "1672            diligent  0.471448\n",
      "1811             driving  0.471193\n",
      "2821                  iq  0.467393\n",
      "5048           triggered  0.464511\n",
      "221                  580  0.458511\n",
      "5210               usury  0.456739\n",
      "1024              ceased  0.452705\n",
      "1165            combined  0.452562\n",
      "2866        jurisdiction  0.451061\n",
      "3869            proposed  0.447958\n",
      "2519               hipaa  0.446082\n",
      "4331               rings  0.440639\n",
      "5259                 vet  0.439018\n",
      "4775          subsection  0.435682\n",
      "4749              strict  0.434813\n",
      "3480             operate  0.429676\n",
      "40                 1681b  0.429669\n",
      "3088                macy  0.427806\n",
      "3218             midland  0.424827\n",
      "4313           reversing  0.423636\n",
      "689          association  0.422513\n",
      "5321              warned  0.421285\n",
      "3027              loaded  0.420755\n",
      "2895                  ky  0.416796\n",
      "4738        straightened  0.416616\n",
      "581              apology  0.409819\n",
      "2038            existent  0.409039\n",
      "1630           desperate  0.408801\n",
      "3907          punishment    0.4077\n",
      "433       administration  0.406148\n"
     ]
    }
   ],
   "source": [
    "# Display the words with largest positive coefficients\n",
    "print(word_coefs.sort_values('coef', ascending=False)[:60])"
   ]
  },
  {
   "cell_type": "code",
   "execution_count": 36,
   "metadata": {},
   "outputs": [
    {
     "name": "stdout",
     "output_type": "stream",
     "text": [
      "While checking my personal credit report, I discovered an Unauthorized and Fraudulent credit inquiry made without my KNOWLEDGE or CONSENT by XXXX on or about XXXX/XXXX/2014 on TRANSUNION credit file. I did not authorized or give permission to anyone employed by this company to make any inquiry and view my credit report. XXXX has violated the Fair Credit Reporting Act Section [[1681b]] ( c ). They were not legally entitled to make this fraudulent inquiry. This is a serious breach of my privacy rights. I am requesting that they mail me a copy of my signed authorization form that gave them the right to view my credit within five ( 5 ) business days so that I can verify its validity and advised them that if they can not provide me with proof that I authorized them to view my credit report then I am demanding that they contact the credit bureaus and have them remove the unauthorized and fraudulent hard inquiry immediately.\n",
      "\n",
      "\n",
      "\n",
      "\n",
      "While checking my personal credit report, I noticed an unauthorized and fraudulent credit inquiry made by XXXX on or about XX/XX/XXXX on Transunion. I did not authorized anyone employed by this company to make any inquiry and view my credit report. XXXX has violated the Fair Credit Reporting Act Section [[1681b]] ( c ). They were not legally entitled to make this fraudulent inquiry. This is a serious breach of my privacy rights. \n",
      "I have requested that they mail me a copy of my signed authorization form that gave them the right to view my credit within five ( 5 ) business days so that I can verify its validity and advised them that if they can not provide me with proof that I authorized them to view my credit report then I am demanding that they contact the credit bureaus immediately and have them remove the unauthorized and fraudulent hard inquiry immediately. I also requested that they remove my personal information from their records. My Social Security # is XXXX and my Date of Birth is XX/XX/XXXX in case it is needed to locate the fraudulent inquiry in their system.\n",
      "\n",
      "\n",
      "\n",
      "\n",
      "While checking my personal credit report, I discovered an Unauthorized and Fraudulent credit inquiry made without my KNOWLEDGE or CONSENT by XXXX on or about XXXX/XXXX/2015 on TRANSUNION credit file. I did not authorized or give permission to anyone employed by this company to make any inquiry and view my credit report. XXXX has violated the Fair Credit Reporting Act Section [[1681b]] ( c ). They were not legally entitled to make this fraudulent inquiry. This is a serious breach of my privacy rights. I am requesting that they mail me a copy of my signed authorization form that gave them the right to view my credit within five ( 5 ) business days so that I can verify its validity and advised them that if they can not provide me with proof that I authorized them to view my credit report then I am demanding that they contact the credit bureaus and have them remove the unauthorized and fraudulent hard inquiry immediately.\n",
      "\n",
      "\n",
      "\n",
      "\n",
      "While checking my personal credit report, I noticed an unauthorized and fraudulent credit inquiry made by XX/XX/XXXX on or about XX/XX/XXXXon Transunion. I did not authorized anyone employed by this company to make any inquiry and view my credit report. XX/XX/XXXX has violated the Fair Credit Reporting Act Section [[1681b]] ( c ). They were not legally entitled to make this fraudulent inquiry. This is a serious breach of my privacy rights. \n",
      "I have requested that they mail me a copy of my signed authorization form that gave them the right to view my credit within five ( 5 ) business days so that I can verify its validity and advised them that if they can not provide me with proof that I authorized them to view my credit report then I am demanding that they contact the credit bureaus immediately and have them remove the unauthorized and fraudulent hard inquiry immediately. I also requested that they remove my personal information from their records. My Social Security # is XXXX and my Date of Birth is XX/XX/XXXX in case it is needed to locate the fraudulent inquiry in their system.\n",
      "\n",
      "\n",
      "\n",
      "\n",
      "While checking my personal credit report, I discovered an Unauthorized and Fraudulent credit inquiry made without my KNOWLEDGE or CONSENT by XXXX on or about XXXX/XXXX/2014 on TRANSUNION credit file. I did not authorized or give permission to anyone employed by this company to make any inquiry and view my credit report. XXXX has violated the Fair Credit Reporting Act Section [[1681b]] ( c ). They were not legally entitled to make this fraudulent inquiry. This is a serious breach of my privacy rights. I am requesting that they mail me a copy of my signed authorization form that gave them the right to view my credit within five ( 5 ) business days so that I can verify its validity and advised them that if they can not provide me with proof that I authorized them to view my credit report then I am demanding that they contact the credit bureaus and have them remove the unauthorized and fraudulent hard inquiry immediately.\n",
      "\n",
      "\n",
      "\n",
      "\n",
      "While checking my personal credit report, I noticed an unauthorized and fraudulent credit inquiry made by XXXX on or about XX/XX/XXXX on Transunion. I did not authorized anyone employed by this company to make any inquiry and view my credit report. XXXX has violated the Fair Credit Reporting Act Section [[1681b]] ( c ). They were not legally entitled to make this fraudulent inquiry. This is a serious breach of my privacy rights. \n",
      "I have requested that they mail me a copy of my signed authorization form that gave them the right to view my credit within XXXX ( XXXX ) business days so that I can verify its validity and advised them that if they can not provide me with proof that I authorized them to view my credit report then I am demanding that they contact the credit bureaus immediately and have them remove the unauthorized and fraudulent hard inquiry immediately. I also requested that they remove my personal information from their records. My Social Security # is XXXX and my Date of Birth is XX/XX/XXXX in case it is needed to locate the fraudulent inquiry in their system.\n",
      "\n",
      "\n",
      "\n",
      "\n",
      "While checking my personal credit report, I discovered an Unauthorized and Fraudulent credit inquiry made without my KNOWLEDGE or CONSENT by XXXX on or about XXXX/XXXX/2014 on TRANSUNION credit file. I did not authorized or give permission to anyone employed by this company to make any inquiry and view my credit report. XXXX has violated the Fair Credit Reporting Act Section [[1681b]] ( c ). They were not legally entitled to make this fraudulent inquiry. This is a serious breach of my privacy rights. I am requesting that they mail me a copy of my signed authorization form that gave them the right to view my credit within five ( 5 ) business days so that I can verify its validity and advised them that if they can not provide me with proof that I authorized them to view my credit report then I am demanding that they contact the credit bureaus and have them remove the unauthorized and fraudulent hard inquiry immediately.\n",
      "\n",
      "\n",
      "\n",
      "\n",
      "While checking my personal credit report, I noticed an unauthorized and fraudulent credit inquiry made by XXXX on or about XXXX/XXXX/XXXXon Transunion. I did not authorized anyone employed by this company to make any inquiry and view my credit report. XXXX XXXX XXXX has violated the Fair Credit Reporting Act Section [[1681b]] ( c ). They were not legally entitled to make this fraudulent inquiry. This is a serious breach of my privacy rights. \n",
      "I have requested that they mail me a copy of my signed authorization form that gave them the right to view my credit within five ( 5 ) business days so that I can verify its validity and advised them that if they can not provide me with proof that I authorized them to view my credit report then I am demanding that they contact the credit bureaus immediately and have them remove the unauthorized and fraudulent hard inquiry immediately. I also requested that they remove my personal information from their records. My Social Security # is XXXX and my Date of Birth is XX/XX/XXXX in case it is needed to locate the fraudulent inquiry in their system.\n",
      "\n",
      "\n",
      "\n",
      "\n",
      "While checking my personal credit report, I discovered an Unauthorized and Fraudulent credit inquiry made without my KNOWLEDGE or CONSENT by XXXX on or about XXXX/XXXX/2014 on TRANSUNION credit file. I did not authorized or give permission to anyone employed by this company to make any inquiry and view my credit report. XXXX has violated the Fair Credit Reporting Act Section [[1681b]] ( c ). They were not legally entitled to make this fraudulent inquiry. This is a serious breach of my privacy rights. I am requesting that they mail me a copy of my signed authorization form that gave them the right to view my credit within five ( 5 ) business days so that I can verify its validity and advised them that if they can not provide me with proof that I authorized them to view my credit report then I am demanding that they contact the credit bureaus and have them remove the unauthorized and fraudulent hard inquiry immediately.\n",
      "\n",
      "\n",
      "\n",
      "\n",
      "I just checked my personal credit report, just discovered an unauthorized and fraudulent credit inquiry made by XXXX on or about XXXX/XXXX/14 on TRANSUNION. I did not authorized anyone employed by this company or at this company or TRANSUNION to make any inquiry or inquiries and view or show my credit report to anyone, person, company, entity, business, co, corp or similar. XXXX has violated the Fair Credit Reporting Act Section [[1681b]] ( c ). They were not legally entitled to make this fraudulent inquiry. This is a serious breach of my privacy rights. I have requested that they mail me a copy of my signed authorization form that gave them the right to view my credit within five ( 5 ) business days so that I can verify its validity and advised them that if they can not provide me with proof Bearing my Signature or Request in Writing that I authorized them to view my credit report, then I am demanding that TRANSUNION remove the unauthorized and fraudulent hard credit inquiry immediately from my TRANSUNION credit file.\n",
      "\n",
      "\n",
      "\n",
      "\n",
      "While checking my personal credit report, I noticed an unauthorized and fraudulent credit inquiry made by XXXX on or about XX/XX/XXXX on Transunion. I did not authorized anyone employed by this company to make any inquiry and view my credit report. XXXX has violated the Fair Credit Reporting Act Section [[1681b]] ( c ). They were not legally entitled to make this fraudulent inquiry. This is a serious breach of my privacy rights. \n",
      "I have requested that they mail me a copy of my signed authorization form that gave them the right to view my credit within five ( 5 ) business days so that I can verify its validity and advised them that if they can not provide me with proof that I authorized them to view my credit report then I am demanding that they contact the credit bureaus immediately and have them remove the unauthorized and fraudulent hard inquiry immediately. I also requested that they remove my personal information from their records. My Social Security # is XXXX and my Date of Birth is XX/XX/XXXX in case it is needed to locate the fraudulent inquiry in their system.\n",
      "\n",
      "\n",
      "\n",
      "\n",
      "I recently check my Transunion report and it shows an unauthorized Credit Inquiry made from XXXX XXXX XXXX XXXX XXXX XXXX XXXX XXXX XXXX XXXX XXXX, UT XXXX ( XXXX ) XXXX. \n",
      "\n",
      "While checking my personal credit report, which I acquired from [ Transunion ] noticed an inquiry made by the company on XX/XX/2017 I did not authorized anyone employed by the company to make an inquiry and view my credit report. it have violated the Fair Credit Reporting Act Section [[1681b]] ( c ) .You are not legally entitled to make the inquiry. This is a serious breach of my privacy rights. \n",
      "\n",
      "I request that you either mail me a copy of my signed authorization form that gave you the right to view my credit within five ( 30 ) business daysso that I can verify its validity\n",
      "\n",
      "\n",
      "\n",
      "\n",
      "XXXX   XXXX  offered me a chance to receive a secured credit card with an opening deposit twice and I was denied both times. I was n't planning on applying for anything during those times as I was repairing my credit. I applied because I was allegedly pre-approved. That 's not fair to the consumer. Neither  XXXX   XXXX  nor the  XXXX  credit bureaus ( TransUnion,  XXXX , and   XXXX    ) will ho nor removing the inquiries even though I was solicited by   XXXX   XXXX  . The FACTS states inquiries can only be pulled under certain conditions and \" firm '' offers a re one of those conditions. Here is a reference to the code under ( c ) ( 1 ) ( B ) ( I ) : 15 U.S. Code [[1681b]] - Permissible purposes of consumer reports ( c ) Furnishing reports in connection with credit or insurance transactions that are not initiated by consumer ( 1 ) In general A consumer reporting agency may furnish a consumer report relating to any consumer pursuant to subparagraph ( A ) or ( C ) of subsection ( a ) ( 3 ) in connection with any credit or insurance transaction that is not initiated by the consumer only if ( A ) the consumer authorizes the agency to provide such report to such person ; or ( B ) ( i ) the transaction consists of a firm offer of credit or insurance ; ( ii ) the consumer reporting agency has complied with subsection ( e ) ; ( iii ) there is not in effect an election by the consumer, made in accor  dance with subsection ( e ), to have the consumers name and address excluded from lists of names provided by the agency pursuant to this paragraph ; and ( iv ) the consumer report does not contain a date of birth that shows that the consumer has not attained the age of 21, or, if the date of birth on the consumer report shows that the consumer has not attained the age of 21, suc h consumer consents to the consumer reporting agency to such furnishing.\n",
      "\n",
      "\n",
      "\n",
      "\n",
      "While checking my personal credit report, I noticed an unauthorized and fraudulent credit inquiry made by XXXX on or about XX/XX/XXXX on Transunion. I did not authorized anyone employed by this company to make any inquiry and view my credit report. XXXX has violated the Fair Credit Reporting Act Section [[1681b]] ( c ). They were not legally entitled to make this fraudulent inquiry. This is a serious breach of my privacy rights. \n",
      "I have requested that they mail me a copy of my signed authorization form that gave them the right to view my credit within five ( 5 ) business days so that I can verify its validity and advised them that if they can not provide me with proof that I authorized them to view my credit report then I am demanding that they contact the credit bureaus immediately and have them remove the unauthorized and fraudulent hard inquiry immediately. I also requested that they remove my personal information from their records. My Social Security # is XXXX and my Date of Birth is XX/XX/XXXX in case it is needed to locate the fraudulent inquiry in their system.\n",
      "\n",
      "\n",
      "\n",
      "\n",
      "Please check the attached FTC ID Theft report, there are several inquiries on my credit report, they are all listed accordingly on that report. I did not give your company permission to run my credit nor do you have any permissible purpose to run my credit.   Since it is against the FCR A, 604. Permissible purposes of consumer reports [ 15 U.S.C. [[1681b]] ] for an entity  to view a consumers credit report without a permissible purpose. I am writing to inquire as to your alleged purpose for doing so since I did not apply for any credit with your company.   This inquiry was performed under false pretenses as described in the clear language of the la w. 15 USC 1681n ( a ) ( 1 ) ( B ) wh ich states, in part, in the case of liability of a natural person for obtaining a consumer report under false pretenses or knowingly without a permissible purpose, actual damages sustained by the consumer as a result of the failure or {$1000.00}, whichever is greater ;\n",
      "\n",
      "\n",
      "\n",
      "\n",
      "While checking my personal credit report, I discovered an Unauthorized and Fraudulent credit inquiry made without my KNOWLEDGE or CONSENT by XXXX on or about XXXX/XXXX/2014 on TRANSUNION credit file. I did not authorized or give permission to anyone employed by this company to make any inquiry and view my credit report. XXXX XXXX has violated the Fair Credit Reporting Act Section [[1681b]] ( c ). They were not legally entitled to make this fraudulent inquiry. This is a serious breach of my privacy rights. I am requesting that they mail me a copy of my signed authorization form that gave them the right to view my credit within five ( 5 ) business days so that I can verify its validity and advised them that if they can not provide me with proof that I authorized them to view my credit report then I am demanding that they contact the credit bureaus and have them remove the unauthorized and fraudulent hard inquiry immediately.\n",
      "\n",
      "\n",
      "\n",
      "\n",
      "While checking my personal credit report, I noticed an unauthorized and fraudulent credit inquiry made by XXXX on or about XX/XX/XXXX onTransunion. I did not authorized anyone employed by this company to make any inquiry and view my credit report. XXXX has violated the Fair Credit Reporting Act Section [[1681b]] ( c ). They were not legally entitled to make this fraudulent inquiry. This is a serious breach of my privacy rights. \n",
      "I have requested that they mail me a copy of my signed authorization form that gave them the right to view my credit within five ( 5 ) business days so that I can verify its validity and advised them that if they can not provide me with proof that I authorized them to view my credit report then I am demanding that they contact the credit bureaus immediately and have them remove the unauthorized and fraudulent hard inquiry immediately. I also requested that they remove my personal information from their records. My Social Security # is XXXX and my Date of Birth is XX/XX/XXXX in case it is needed to locate the fraudulent inquiry in their system.\n",
      "\n",
      "\n",
      "\n",
      "\n",
      "While checking my personal credit report, I noticed an unauthorized and fraudulent credit inquiry made by XXXX on or about XX/XX/XXXX on Transunion. I did not authorized anyone employed by this company to make any inquiry and view my credit report. XXXX has violated the Fair Credit Reporting Act Section [[1681b]] ( c ). They were not legally entitled to make this fraudulent inquiry. This is a serious breach of my privacy rights. \n",
      "I have requested that they mail me a copy of my signed authorization form that gave them the right to view my credit within five ( 5 ) business days so that I can verify its validity and advised them that if they can not provide me with proof that I authorized them to view my credit report then I am demanding that they contact the credit bureaus immediately and have them remove the unauthorized and fraudulent hard inquiry immediately. I also requested that they remove my personal information from their records. My Social Security # is XXXX and my Date of Birth is XX/XX/XXXX in case it is needed to locate the fraudulent inquiry in their system.\n",
      "\n",
      "\n",
      "\n",
      "\n",
      "While checking my personal credit report, I noticed an unauthorized and fraudulent credit inquiry made by XXXX on or about XX/XX/XXXX on Transunion. I did not authorized anyone employed by this company to make any inquiry and view my credit report.XXXX has violated the Fair Credit Reporting Act Section [[1681b]] ( c ). They were not legally entitled to make this fraudulent inquiry. This is a serious breach of my privacy rights. \n",
      "I have requested that they mail me a copy of my signed authorization form that gave them the right to view my credit within five ( 5 ) business days so that I can verify its validity and advised them that if they can not provide me with proof that I authorized them to view my credit report then I am demanding that they contact the credit bureaus immediately and have them remove the unauthorized and fraudulent hard inquiry immediately. I also requested that they remove my personal information from their records. My Social Security # is XXXX and my Date of Birth is XX/XX/XXXX in case it is needed to locate the fraudulent inquiry in their system.\n",
      "\n",
      "\n",
      "\n",
      "\n",
      "While checking my personal credit report, I noticed an unauthorized and fraudulent credit inquiry made by XXXX on or about XX/XX/XXXX on Transunion. I did not authorized anyone employed by this company to make any inquiry and view my credit report. XXXX has violated the Fair Credit Reporting Act Section [[1681b]] ( c ). They were not legally entitled to make this fraudulent inquiry. This is a serious breach of my privacy rights. \n",
      "I have requested that they mail me a copy of my signed authorization form that gave them the right to view my credit within five ( 5 ) business days so that I can verify its validity and advised them that if they can not provide me with proof that I authorized them to view my credit report then I am demanding that they contact the credit bureaus immediately and have them remove the unauthorized and fraudulent hard inquiry immediately. I also requested that they remove my personal information from their records. My Social Security # is XXXX and my Date of Birth is XXXX in case it is needed to locate the fraudulent inquiry in their system.\n",
      "\n",
      "\n",
      "\n",
      "\n"
     ]
    }
   ],
   "source": [
    "import re\n",
    "\n",
    "def inspect_complaints(string, complaints_array, n=20):\n",
    "\n",
    "        complaints = complaints_array[complaints_array.apply(\\\n",
    "                                     lambda x:True if re.search(string + '\\s',x) else False)]\n",
    "        \n",
    "        if n > complaints.shape[0]:\n",
    "            n = complaints.shape[0]\n",
    "            print('n was too large, printing all available complaints.\\n\\n')\n",
    "        for i in range(n):\n",
    "            complaint = complaints.iloc[i]\n",
    "            complaint = complaint.replace(string, '[[' + string + ']]')\n",
    "            print(complaint)\n",
    "            print('\\n\\n\\n')\n",
    "            \n",
    "inspect_complaints('1681b', X.consumer_complaint_narrative)"
   ]
  },
  {
   "cell_type": "markdown",
   "metadata": {},
   "source": [
    "<a id='fin'></a>"
   ]
  },
  {
   "cell_type": "markdown",
   "metadata": {},
   "source": [
    "# Conclusions\n",
    "\n",
    "- The Logistic Regression model with metadata features confirms our observations that the products most indicative of receiving relief are credit cards and prepaid cards, bank and checking accounts.\n",
    "- The model confirms that larger companies are more likely to award relief.\n",
    "- Inspection of complaints text using the model coefficients, reveals some specific issues:\n",
    "    - The Dodds-Frank law, codes 1681b and 1681g from the US consumer laws \n",
    "    - Length of complaint may be indicative of likelihood of relief (examples)\n",
    "    - Company names are often embedded in complaints, so there is a possibility of overfitting to individual companies\n",
    "    \n",
    "#### Appendices\n",
    "\n",
    "[Parameter Optimisation](#opt)\n",
    "Code to optimise the logistic regression model using a randomised search.\n",
    "\n",
    "[Thresholding predictions](#thresh)\n",
    "The CFPB can control the level of recall and precision in the model predictions by applying a threshold against the prediction probabilities. In this way, they can understand the trade-off between the reduction in number of complaints they want to achieve using the model, and the proportion of potentially successful complaints they might miss by doing so.\n",
    "\n",
    "[Latent Dirichlet Allocation](#lda)\n",
    "Topic modelling is a helpful way to explore text data, and is an unsupervised method. pyLDAvis is used to visualise the output of an LDA model."
   ]
  },
  {
   "cell_type": "markdown",
   "metadata": {},
   "source": [
    "<a id='opt'></a>"
   ]
  },
  {
   "cell_type": "markdown",
   "metadata": {},
   "source": [
    "# Parameter optimisation to get a strong model"
   ]
  },
  {
   "cell_type": "code",
   "execution_count": 33,
   "metadata": {},
   "outputs": [],
   "source": [
    "from sklearn.compose import ColumnTransformer\n",
    "from sklearn.pipeline import Pipeline\n",
    "from sklearn.preprocessing import StandardScaler, FunctionTransformer\n",
    "from sklearn.feature_extraction.text import TfidfTransformer\n",
    "\n",
    "def xx_remove(X):\n",
    "    ## function to remove the xx blanks in strings, as this is noise\n",
    "    fixed = X.str.replace('xx+','')\n",
    "    return fixed\n",
    "\n",
    "\n",
    "\n",
    "categorical_features = ['product', 'issue', 'sub-issue', 'company_size']\n",
    "text_features = 'consumer_complaint_narrative'\n",
    "\n",
    "categorical_transformer = Pipeline(steps=[\n",
    "    ('ohe', OneHotEncoder(handle_unknown='ignore')),\n",
    "    ('scaler', StandardScaler(with_mean=False))\n",
    "])\n",
    "\n",
    "text_transformer = Pipeline([\n",
    "    ('xx', FunctionTransformer(xx_remove)),\n",
    "    ('vect', CountVectorizer(strip_accents = 'unicode',\n",
    "                                stop_words = 'english',\n",
    "                                lowercase = True)),\n",
    "    ('tfidf', TfidfTransformer())\n",
    "])\n",
    "\n",
    "\n",
    "\n",
    "preprocessor = ColumnTransformer(\n",
    "transformers=[\n",
    "    ('cat', categorical_transformer, categorical_features),\n",
    "    ('text', text_transformer, text_features)\n",
    "])\n",
    "\n",
    "clf = Pipeline(steps=[\n",
    "    ('preprocessor', preprocessor),\n",
    "    ('classifier', LogisticRegression())\n",
    "])"
   ]
  },
  {
   "cell_type": "code",
   "execution_count": 34,
   "metadata": {},
   "outputs": [],
   "source": [
    "parameters = {\n",
    "    'preprocessor__text__vect__max_df': (0.5, 0.75, 1.0),\n",
    "    'preprocessor__text__vect__max_features': (None, 5000, 10000, 50000),\n",
    "    'preprocessor__text__vect__ngram_range': ((1, 1), (1, 2)),  # unigrams or bigrams\n",
    "    'preprocessor__text__tfidf__use_idf': (True, False),\n",
    "    'preprocessor__text__tfidf__norm': ('l1', 'l2'),\n",
    "    'preprocessor__cat__scaler':['passthrough', StandardScaler(with_mean=False)],\n",
    "    'classifier__C':stats.uniform(0.1,10),\n",
    "    'classifier__class_weight':[{1:w,0:1} for w in range(2,10)]\n",
    "}\n",
    "\n",
    "random_search = RandomizedSearchCV(clf, parameters, cv=3, n_iter=10, random_state=31415)"
   ]
  },
  {
   "cell_type": "code",
   "execution_count": null,
   "metadata": {
    "scrolled": false
   },
   "outputs": [],
   "source": [
    "random_search.fit(X_train, y_train, scoring=['f1_score','recall','precision'])"
   ]
  },
  {
   "cell_type": "code",
   "execution_count": 118,
   "metadata": {},
   "outputs": [
    {
     "name": "stdout",
     "output_type": "stream",
     "text": [
      "              precision    recall  f1-score   support\n",
      "\n",
      "           0       0.88      0.82      0.85     10647\n",
      "           1       0.45      0.57      0.51      2715\n",
      "\n",
      "    accuracy                           0.77     13362\n",
      "   macro avg       0.67      0.70      0.68     13362\n",
      "weighted avg       0.80      0.77      0.78     13362\n",
      "\n"
     ]
    }
   ],
   "source": [
    "\n",
    "preds = random_search.predict(X_test)\n",
    "print(classification_report(y_test, preds))"
   ]
  },
  {
   "cell_type": "markdown",
   "metadata": {},
   "source": [
    "#### Oversampling\n"
   ]
  },
  {
   "cell_type": "code",
   "execution_count": null,
   "metadata": {},
   "outputs": [],
   "source": [
    "from imblearn.over_sampling import SMOTE"
   ]
  },
  {
   "cell_type": "code",
   "execution_count": null,
   "metadata": {},
   "outputs": [],
   "source": [
    "smote = SMOTE(n_jobs=4)\n",
    "X_train_smote, y_train_smote = smote.fit_sample(preprocessing.fit_transform(X_train), y_train)"
   ]
  },
  {
   "cell_type": "code",
   "execution_count": null,
   "metadata": {},
   "outputs": [],
   "source": [
    "model = LogisticRegression(max_iter=200)\n",
    "model.fit(X_train_smote, y_train_smote)\n",
    "preds = model.predict(preprocessing.transform(X_test))\n",
    "print(classification_report(y_test, preds))"
   ]
  },
  {
   "cell_type": "markdown",
   "metadata": {},
   "source": [
    "<a id='thresh'></a>"
   ]
  },
  {
   "cell_type": "markdown",
   "metadata": {},
   "source": [
    "# Prediction threshold"
   ]
  },
  {
   "cell_type": "code",
   "execution_count": null,
   "metadata": {},
   "outputs": [],
   "source": [
    "preds = randomised_search.predict_proba(X_test)\n",
    "for i in np.arange(0.3, 1, 0.1):\n",
    "    print(i,'\\n',classification_report(y_test, preds[:,1] > i))"
   ]
  },
  {
   "cell_type": "markdown",
   "metadata": {},
   "source": [
    "<a id=\"clf\"></a>"
   ]
  },
  {
   "cell_type": "markdown",
   "metadata": {},
   "source": [
    "<a id='lda'></a>"
   ]
  },
  {
   "cell_type": "markdown",
   "metadata": {},
   "source": [
    "# LDA"
   ]
  },
  {
   "cell_type": "code",
   "execution_count": null,
   "metadata": {},
   "outputs": [
    {
     "name": "stderr",
     "output_type": "stream",
     "text": [
      "C:\\Users\\thomas.merritt-smith\\AppData\\Local\\Continuum\\anaconda3\\envs\\uscfpb_test\\lib\\site-packages\\pandas\\core\\generic.py:5208: SettingWithCopyWarning: \n",
      "A value is trying to be set on a copy of a slice from a DataFrame.\n",
      "Try using .loc[row_indexer,col_indexer] = value instead\n",
      "\n",
      "See the caveats in the documentation: http://pandas.pydata.org/pandas-docs/stable/user_guide/indexing.html#returning-a-view-versus-a-copy\n",
      "  self[name] = value\n"
     ]
    }
   ],
   "source": [
    "\n",
    "vect = CountVectorizer(strip_accents = 'unicode',\n",
    "                                stop_words = 'english',\n",
    "                                lowercase = True,\n",
    "                                max_df = 0.5, \n",
    "                                min_df = 100)\n",
    "\n",
    "raw_text = df.dropna(subset=['consumer_complaint_narrative'])\n",
    "raw_text.consumer_complaint_narrative = raw_text.consumer_complaint_narrative.apply(lambda x:x.lower())\n",
    "\n",
    "lda = LatentDirichletAllocation(n_components=5) # one component for each product\n",
    "\n",
    "encoded = vect.fit_transform(raw_text.consumer_complaint_narrative[raw_text.relief_received == 1].sample(10000))\n",
    "lda.fit(encoded)"
   ]
  },
  {
   "cell_type": "code",
   "execution_count": null,
   "metadata": {},
   "outputs": [],
   "source": [
    "from pyLDAvis.sklearn import prepare\n",
    "import pyLDAvis\n",
    "\n",
    "vis = prepare(lda, encoded, vect,\n",
    "#               mds='tsne'\n",
    "             )\n",
    "\n",
    "pyLDAvis.enable_notebook()\n",
    "\n",
    "pyLDAvis.display(vis)\n",
    "\n"
   ]
  },
  {
   "cell_type": "code",
   "execution_count": null,
   "metadata": {},
   "outputs": [],
   "source": [
    "topics = lda.transform(encoded)\n",
    "text_with_topics = raw_text[raw_text.relief_received == 1]\n",
    "text_with_topics['top_topic'] = topics.argmax(axis=1)\n",
    "text_with_topics['top_topic_prob'] = topics.max(axis=1)\n"
   ]
  },
  {
   "cell_type": "code",
   "execution_count": null,
   "metadata": {},
   "outputs": [],
   "source": [
    "text_with_topics.top_topic.value_counts()"
   ]
  },
  {
   "cell_type": "code",
   "execution_count": null,
   "metadata": {
    "scrolled": true
   },
   "outputs": [],
   "source": [
    "pd.crosstab(text_with_topics['issue'], text_with_topics.top_topic).sort_values(by=0, ascending=False)"
   ]
  },
  {
   "cell_type": "code",
   "execution_count": null,
   "metadata": {},
   "outputs": [],
   "source": [
    "n_samples = 2000\n",
    "n_features = 1000\n",
    "n_components = 10\n",
    "n_top_words = 20\n",
    "\n",
    "\n",
    "def print_top_words(model, feature_names, n_top_words):\n",
    "    for topic_idx, topic in enumerate(model.components_):\n",
    "        message = \"Topic #%d: \" % topic_idx\n",
    "        message += \" \".join([feature_names[i]\n",
    "                             for i in topic.argsort()[:-n_top_words - 1:-1]])\n",
    "        print(message)\n",
    "    print()\n",
    "    \n",
    "print_top_words(lda, vect.get_feature_names(), n_top_words)\n"
   ]
  }
 ],
 "metadata": {
  "kernelspec": {
   "display_name": "Python 3",
   "language": "python",
   "name": "python3"
  },
  "language_info": {
   "codemirror_mode": {
    "name": "ipython",
    "version": 3
   },
   "file_extension": ".py",
   "mimetype": "text/x-python",
   "name": "python",
   "nbconvert_exporter": "python",
   "pygments_lexer": "ipython3",
   "version": "3.7.5"
  }
 },
 "nbformat": 4,
 "nbformat_minor": 2
}
